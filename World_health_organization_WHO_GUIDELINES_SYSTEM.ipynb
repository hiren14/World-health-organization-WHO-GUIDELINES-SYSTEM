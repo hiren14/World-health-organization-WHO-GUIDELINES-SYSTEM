{
  "nbformat": 4,
  "nbformat_minor": 0,
  "metadata": {
    "colab": {
      "name": "World-health-organization-WHO-GUIDELINES-SYSTEM.ipynb",
      "provenance": [],
      "authorship_tag": "ABX9TyM5/U4JwU6Yqs1DuW9ozVr7",
      "include_colab_link": true
    },
    "kernelspec": {
      "name": "python3",
      "display_name": "Python 3"
    },
    "language_info": {
      "name": "python"
    }
  },
  "cells": [
    {
      "cell_type": "markdown",
      "metadata": {
        "id": "view-in-github",
        "colab_type": "text"
      },
      "source": [
        "<a href=\"https://colab.research.google.com/github/hiren14/World-health-organization-WHO-GUIDELINES-SYSTEM/blob/main/World_health_organization_WHO_GUIDELINES_SYSTEM.ipynb\" target=\"_parent\"><img src=\"https://colab.research.google.com/assets/colab-badge.svg\" alt=\"Open In Colab\"/></a>"
      ]
    },
    {
      "cell_type": "markdown",
      "source": [
        ""
      ],
      "metadata": {
        "id": "omyBLB4K40qD"
      }
    },
    {
      "cell_type": "code",
      "execution_count": null,
      "metadata": {
        "id": "lX6OzwpziLTi",
        "cellView": "form"
      },
      "outputs": [],
      "source": [
        "#@title\n",
        "!git clone https://github.com/hiren14/World-health-organization-WHO-GUIDELINES-SYSTEM # clone\n"
      ]
    },
    {
      "cell_type": "code",
      "source": [
        "%cd World-health-organization-WHO-GUIDELINES-SYSTEM\n"
      ],
      "metadata": {
        "colab": {
          "base_uri": "https://localhost:8080/"
        },
        "id": "jHF0uVo64Bwf",
        "outputId": "18b6b09f-6c7d-4086-e3db-f3e9c31cb98f"
      },
      "execution_count": null,
      "outputs": [
        {
          "output_type": "stream",
          "name": "stdout",
          "text": [
            "/content/World-health-organization-WHO-GUIDELINES-SYSTEM\n"
          ]
        }
      ]
    },
    {
      "cell_type": "code",
      "source": [
        "%pip install -qr requirements.txt  # install"
      ],
      "metadata": {
        "colab": {
          "base_uri": "https://localhost:8080/"
        },
        "id": "UomOqtgW6b0p",
        "outputId": "61f5ea47-946e-49ef-c503-3792bf1cfb41"
      },
      "execution_count": null,
      "outputs": [
        {
          "output_type": "stream",
          "name": "stdout",
          "text": [
            "\u001b[?25l\r\u001b[K     |▌                               | 10 kB 19.8 MB/s eta 0:00:01\r\u001b[K     |█                               | 20 kB 26.8 MB/s eta 0:00:01\r\u001b[K     |█▋                              | 30 kB 30.6 MB/s eta 0:00:01\r\u001b[K     |██▏                             | 40 kB 20.4 MB/s eta 0:00:01\r\u001b[K     |██▊                             | 51 kB 7.5 MB/s eta 0:00:01\r\u001b[K     |███▎                            | 61 kB 8.2 MB/s eta 0:00:01\r\u001b[K     |███▉                            | 71 kB 6.9 MB/s eta 0:00:01\r\u001b[K     |████▍                           | 81 kB 7.7 MB/s eta 0:00:01\r\u001b[K     |█████                           | 92 kB 7.7 MB/s eta 0:00:01\r\u001b[K     |█████▌                          | 102 kB 6.9 MB/s eta 0:00:01\r\u001b[K     |██████                          | 112 kB 6.9 MB/s eta 0:00:01\r\u001b[K     |██████▋                         | 122 kB 6.9 MB/s eta 0:00:01\r\u001b[K     |███████▏                        | 133 kB 6.9 MB/s eta 0:00:01\r\u001b[K     |███████▊                        | 143 kB 6.9 MB/s eta 0:00:01\r\u001b[K     |████████▎                       | 153 kB 6.9 MB/s eta 0:00:01\r\u001b[K     |████████▉                       | 163 kB 6.9 MB/s eta 0:00:01\r\u001b[K     |█████████▍                      | 174 kB 6.9 MB/s eta 0:00:01\r\u001b[K     |██████████                      | 184 kB 6.9 MB/s eta 0:00:01\r\u001b[K     |██████████▍                     | 194 kB 6.9 MB/s eta 0:00:01\r\u001b[K     |███████████                     | 204 kB 6.9 MB/s eta 0:00:01\r\u001b[K     |███████████▌                    | 215 kB 6.9 MB/s eta 0:00:01\r\u001b[K     |████████████                    | 225 kB 6.9 MB/s eta 0:00:01\r\u001b[K     |████████████▋                   | 235 kB 6.9 MB/s eta 0:00:01\r\u001b[K     |█████████████▏                  | 245 kB 6.9 MB/s eta 0:00:01\r\u001b[K     |█████████████▊                  | 256 kB 6.9 MB/s eta 0:00:01\r\u001b[K     |██████████████▎                 | 266 kB 6.9 MB/s eta 0:00:01\r\u001b[K     |██████████████▉                 | 276 kB 6.9 MB/s eta 0:00:01\r\u001b[K     |███████████████▍                | 286 kB 6.9 MB/s eta 0:00:01\r\u001b[K     |████████████████                | 296 kB 6.9 MB/s eta 0:00:01\r\u001b[K     |████████████████▌               | 307 kB 6.9 MB/s eta 0:00:01\r\u001b[K     |█████████████████               | 317 kB 6.9 MB/s eta 0:00:01\r\u001b[K     |█████████████████▋              | 327 kB 6.9 MB/s eta 0:00:01\r\u001b[K     |██████████████████▏             | 337 kB 6.9 MB/s eta 0:00:01\r\u001b[K     |██████████████████▊             | 348 kB 6.9 MB/s eta 0:00:01\r\u001b[K     |███████████████████▎            | 358 kB 6.9 MB/s eta 0:00:01\r\u001b[K     |███████████████████▉            | 368 kB 6.9 MB/s eta 0:00:01\r\u001b[K     |████████████████████▍           | 378 kB 6.9 MB/s eta 0:00:01\r\u001b[K     |████████████████████▉           | 389 kB 6.9 MB/s eta 0:00:01\r\u001b[K     |█████████████████████▍          | 399 kB 6.9 MB/s eta 0:00:01\r\u001b[K     |██████████████████████          | 409 kB 6.9 MB/s eta 0:00:01\r\u001b[K     |██████████████████████▌         | 419 kB 6.9 MB/s eta 0:00:01\r\u001b[K     |███████████████████████         | 430 kB 6.9 MB/s eta 0:00:01\r\u001b[K     |███████████████████████▋        | 440 kB 6.9 MB/s eta 0:00:01\r\u001b[K     |████████████████████████▏       | 450 kB 6.9 MB/s eta 0:00:01\r\u001b[K     |████████████████████████▊       | 460 kB 6.9 MB/s eta 0:00:01\r\u001b[K     |█████████████████████████▎      | 471 kB 6.9 MB/s eta 0:00:01\r\u001b[K     |█████████████████████████▉      | 481 kB 6.9 MB/s eta 0:00:01\r\u001b[K     |██████████████████████████▍     | 491 kB 6.9 MB/s eta 0:00:01\r\u001b[K     |███████████████████████████     | 501 kB 6.9 MB/s eta 0:00:01\r\u001b[K     |███████████████████████████▌    | 512 kB 6.9 MB/s eta 0:00:01\r\u001b[K     |████████████████████████████    | 522 kB 6.9 MB/s eta 0:00:01\r\u001b[K     |████████████████████████████▋   | 532 kB 6.9 MB/s eta 0:00:01\r\u001b[K     |█████████████████████████████▏  | 542 kB 6.9 MB/s eta 0:00:01\r\u001b[K     |█████████████████████████████▊  | 552 kB 6.9 MB/s eta 0:00:01\r\u001b[K     |██████████████████████████████▎ | 563 kB 6.9 MB/s eta 0:00:01\r\u001b[K     |██████████████████████████████▊ | 573 kB 6.9 MB/s eta 0:00:01\r\u001b[K     |███████████████████████████████▎| 583 kB 6.9 MB/s eta 0:00:01\r\u001b[K     |███████████████████████████████▉| 593 kB 6.9 MB/s eta 0:00:01\r\u001b[K     |████████████████████████████████| 596 kB 6.9 MB/s \n",
            "\u001b[?25h"
          ]
        }
      ]
    },
    {
      "cell_type": "code",
      "source": [
        "#@title\n",
        "\n",
        "\n",
        "import torch\n",
        "import utils\n",
        "display = utils.notebook_init()  # checks"
      ],
      "metadata": {
        "cellView": "form",
        "id": "3rIJa8bB6jFG"
      },
      "execution_count": null,
      "outputs": []
    },
    {
      "cell_type": "code",
      "source": [
        "!python detect.py --weights yolov5s.pt --img 640 --conf 0.25 --source data/images/bus.jpg\n"
      ],
      "metadata": {
        "colab": {
          "base_uri": "https://localhost:8080/"
        },
        "id": "7o_9ZzuijAKB",
        "outputId": "f119aedf-64d2-47f0-f768-1224f515dc26"
      },
      "execution_count": null,
      "outputs": [
        {
          "output_type": "stream",
          "name": "stdout",
          "text": [
            "Downloading https://ultralytics.com/assets/Arial.ttf to /root/.config/Ultralytics/Arial.ttf...\n",
            "\u001b[34m\u001b[1mdetect: \u001b[0mweights=['yolov5s.pt'], source=data/images/bus.jpg, imgsz=[640, 640], conf_thres=0.25, iou_thres=0.45, max_det=1000, device=, view_img=False, save_txt=False, save_conf=False, save_crop=False, nosave=False, classes=None, agnostic_nms=False, augment=False, visualize=False, update=False, project=runs/detect, name=exp, exist_ok=False, line_thickness=3, hide_labels=False, hide_conf=False, half=False, dnn=False\n",
            "YOLOv5 🚀 3febfe4 torch 1.10.0+cu111 CPU\n",
            "\n",
            "Fusing layers... \n",
            "Model Summary: 213 layers, 7225885 parameters, 0 gradients\n",
            "image 1/1 /content/World-health-organization-WHO-GUIDELINES-SYSTEM/data/images/bus.jpg: 640x480 4 persons, 1 bus, Done. (0.321s)\n",
            "Speed: 3.3ms pre-process, 320.8ms inference, 11.7ms NMS per image at shape (1, 3, 640, 640)\n",
            "Results saved to \u001b[1mruns/detect/exp\u001b[0m\n"
          ]
        }
      ]
    },
    {
      "cell_type": "code",
      "source": [
        "!python detect.py --weights yolov5s.pt --img 640 --conf 0.25 --source data/images/img1.jpg\n"
      ],
      "metadata": {
        "colab": {
          "base_uri": "https://localhost:8080/"
        },
        "id": "wnkYGvLj66UE",
        "outputId": "6d53a645-bad4-479f-e3d3-3b58cc8db1e5"
      },
      "execution_count": null,
      "outputs": [
        {
          "output_type": "stream",
          "name": "stdout",
          "text": [
            "\u001b[34m\u001b[1mdetect: \u001b[0mweights=['yolov5s.pt'], source=data/images/img1.jpg, imgsz=[640, 640], conf_thres=0.25, iou_thres=0.45, max_det=1000, device=, view_img=False, save_txt=False, save_conf=False, save_crop=False, nosave=False, classes=None, agnostic_nms=False, augment=False, visualize=False, update=False, project=runs/detect, name=exp, exist_ok=False, line_thickness=3, hide_labels=False, hide_conf=False, half=False, dnn=False\n",
            "YOLOv5 🚀 3febfe4 torch 1.10.0+cu111 CPU\n",
            "\n",
            "Fusing layers... \n",
            "Model Summary: 213 layers, 7225885 parameters, 0 gradients\n",
            "image 1/1 /content/World-health-organization-WHO-GUIDELINES-SYSTEM/data/images/img1.jpg: 448x640 8 persons, Done. (0.279s)\n",
            "Speed: 2.5ms pre-process, 278.9ms inference, 1.2ms NMS per image at shape (1, 3, 640, 640)\n",
            "Results saved to \u001b[1mruns/detect/exp2\u001b[0m\n"
          ]
        }
      ]
    },
    {
      "cell_type": "code",
      "source": [
        "!python detect.py --weights yolov5s.pt --img 640 --conf 0.25 --source data/images/img2.jpg\n"
      ],
      "metadata": {
        "colab": {
          "base_uri": "https://localhost:8080/"
        },
        "id": "Ktsel2Zv7QNh",
        "outputId": "85ed1ebd-43fc-4a8b-e3b1-8a2abff9808e"
      },
      "execution_count": null,
      "outputs": [
        {
          "output_type": "stream",
          "name": "stdout",
          "text": [
            "\u001b[34m\u001b[1mdetect: \u001b[0mweights=['yolov5s.pt'], source=data/images/img2.jpg, imgsz=[640, 640], conf_thres=0.25, iou_thres=0.45, max_det=1000, device=, view_img=False, save_txt=False, save_conf=False, save_crop=False, nosave=False, classes=None, agnostic_nms=False, augment=False, visualize=False, update=False, project=runs/detect, name=exp, exist_ok=False, line_thickness=3, hide_labels=False, hide_conf=False, half=False, dnn=False\n",
            "YOLOv5 🚀 3febfe4 torch 1.10.0+cu111 CPU\n",
            "\n",
            "Fusing layers... \n",
            "Model Summary: 213 layers, 7225885 parameters, 0 gradients\n",
            "image 1/1 /content/World-health-organization-WHO-GUIDELINES-SYSTEM/data/images/img2.jpg: 544x640 11 persons, Done. (0.354s)\n",
            "Speed: 2.6ms pre-process, 353.9ms inference, 1.7ms NMS per image at shape (1, 3, 640, 640)\n",
            "Results saved to \u001b[1mruns/detect/exp3\u001b[0m\n"
          ]
        }
      ]
    },
    {
      "cell_type": "code",
      "source": [
        "!python detect.py --weights yolov5s.pt --img 640 --conf 0.25 --source data/images/img4.jpg\n"
      ],
      "metadata": {
        "colab": {
          "base_uri": "https://localhost:8080/"
        },
        "id": "hK77jIYv7eHo",
        "outputId": "b81cc80b-dac8-41d6-e284-f4bcb2111d2a"
      },
      "execution_count": null,
      "outputs": [
        {
          "output_type": "stream",
          "name": "stdout",
          "text": [
            "\u001b[34m\u001b[1mdetect: \u001b[0mweights=['yolov5s.pt'], source=data/images/img4.jpg, imgsz=[640, 640], conf_thres=0.25, iou_thres=0.45, max_det=1000, device=, view_img=False, save_txt=False, save_conf=False, save_crop=False, nosave=False, classes=None, agnostic_nms=False, augment=False, visualize=False, update=False, project=runs/detect, name=exp, exist_ok=False, line_thickness=3, hide_labels=False, hide_conf=False, half=False, dnn=False\n",
            "YOLOv5 🚀 3febfe4 torch 1.10.0+cu111 CPU\n",
            "\n",
            "Fusing layers... \n",
            "Model Summary: 213 layers, 7225885 parameters, 0 gradients\n",
            "image 1/1 /content/World-health-organization-WHO-GUIDELINES-SYSTEM/data/images/img4.jpg: 448x640 12 persons, Done. (0.285s)\n",
            "Speed: 2.7ms pre-process, 285.2ms inference, 1.3ms NMS per image at shape (1, 3, 640, 640)\n",
            "Results saved to \u001b[1mruns/detect/exp6\u001b[0m\n"
          ]
        }
      ]
    },
    {
      "cell_type": "code",
      "source": [
        "!python detect.py --weights yolov5s.pt --img 640 --conf 0.25 --source data/images/img3.jpg\n"
      ],
      "metadata": {
        "colab": {
          "base_uri": "https://localhost:8080/"
        },
        "id": "_JNiAEGR7iql",
        "outputId": "5b1a46c7-972f-42d5-b231-ce5b4cfe1c34"
      },
      "execution_count": null,
      "outputs": [
        {
          "output_type": "stream",
          "name": "stdout",
          "text": [
            "\u001b[34m\u001b[1mdetect: \u001b[0mweights=['yolov5s.pt'], source=data/images/img3.jpg, imgsz=[640, 640], conf_thres=0.25, iou_thres=0.45, max_det=1000, device=, view_img=False, save_txt=False, save_conf=False, save_crop=False, nosave=False, classes=None, agnostic_nms=False, augment=False, visualize=False, update=False, project=runs/detect, name=exp, exist_ok=False, line_thickness=3, hide_labels=False, hide_conf=False, half=False, dnn=False\n",
            "YOLOv5 🚀 3febfe4 torch 1.10.0+cu111 CPU\n",
            "\n",
            "Fusing layers... \n",
            "Model Summary: 213 layers, 7225885 parameters, 0 gradients\n",
            "image 1/1 /content/World-health-organization-WHO-GUIDELINES-SYSTEM/data/images/img3.jpg: 448x640 12 persons, 1 handbag, Done. (0.297s)\n",
            "Speed: 2.7ms pre-process, 296.8ms inference, 1.3ms NMS per image at shape (1, 3, 640, 640)\n",
            "Results saved to \u001b[1mruns/detect/exp5\u001b[0m\n"
          ]
        }
      ]
    }
  ]
}